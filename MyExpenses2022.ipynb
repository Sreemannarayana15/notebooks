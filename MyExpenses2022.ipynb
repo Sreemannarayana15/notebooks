{
 "cells": [
  {
   "cell_type": "markdown",
   "id": "352faea9",
   "metadata": {},
   "source": [
    "# Expenses 2022\n",
    "## A personal project to know how I spend money :)"
   ]
  },
  {
   "cell_type": "code",
   "execution_count": 1,
   "id": "baf9a3bb",
   "metadata": {},
   "outputs": [],
   "source": [
    "import pandas as pd\n",
    "import numpy as np\n",
    "import matplotlib.pyplot as plt\n",
    "import seaborn as sns\n",
    "%matplotlib inline"
   ]
  },
  {
   "cell_type": "markdown",
   "id": "88ee37d9",
   "metadata": {},
   "source": [
    "## Playing around with data starts :D"
   ]
  },
  {
   "cell_type": "code",
   "execution_count": 2,
   "id": "306f052b",
   "metadata": {},
   "outputs": [
    {
     "data": {
      "text/html": [
       "<div>\n",
       "<style scoped>\n",
       "    .dataframe tbody tr th:only-of-type {\n",
       "        vertical-align: middle;\n",
       "    }\n",
       "\n",
       "    .dataframe tbody tr th {\n",
       "        vertical-align: top;\n",
       "    }\n",
       "\n",
       "    .dataframe thead th {\n",
       "        text-align: right;\n",
       "    }\n",
       "</style>\n",
       "<table border=\"1\" class=\"dataframe\">\n",
       "  <thead>\n",
       "    <tr style=\"text-align: right;\">\n",
       "      <th></th>\n",
       "      <th>Expense</th>\n",
       "      <th>Amount</th>\n",
       "      <th>Category</th>\n",
       "      <th>Comment</th>\n",
       "      <th>Date</th>\n",
       "      <th>Mode of payment</th>\n",
       "    </tr>\n",
       "  </thead>\n",
       "  <tbody>\n",
       "    <tr>\n",
       "      <th>0</th>\n",
       "      <td>Travel</td>\n",
       "      <td>85.0</td>\n",
       "      <td>Travel</td>\n",
       "      <td>GITAM - GWK (35+10) and Return (30+10)</td>\n",
       "      <td>April 1, 2022</td>\n",
       "      <td>NaN</td>\n",
       "    </tr>\n",
       "    <tr>\n",
       "      <th>1</th>\n",
       "      <td>Necessities</td>\n",
       "      <td>310.0</td>\n",
       "      <td>General items</td>\n",
       "      <td>Monthly once or twice.</td>\n",
       "      <td>April 3, 2022</td>\n",
       "      <td>NaN</td>\n",
       "    </tr>\n",
       "    <tr>\n",
       "      <th>2</th>\n",
       "      <td>Haircut and Beard Trimming</td>\n",
       "      <td>220.0</td>\n",
       "      <td>Others</td>\n",
       "      <td>150+70</td>\n",
       "      <td>April 3, 2022</td>\n",
       "      <td>NaN</td>\n",
       "    </tr>\n",
       "    <tr>\n",
       "      <th>3</th>\n",
       "      <td>Laundry</td>\n",
       "      <td>50.0</td>\n",
       "      <td>Clothes</td>\n",
       "      <td>Weekly Twice</td>\n",
       "      <td>April 5, 2022</td>\n",
       "      <td>NaN</td>\n",
       "    </tr>\n",
       "    <tr>\n",
       "      <th>4</th>\n",
       "      <td>Lunch</td>\n",
       "      <td>100.0</td>\n",
       "      <td>Food</td>\n",
       "      <td>Had an Onion Rava Masala Dosa (60), 2 Sprites ...</td>\n",
       "      <td>April 8, 2022</td>\n",
       "      <td>NaN</td>\n",
       "    </tr>\n",
       "  </tbody>\n",
       "</table>\n",
       "</div>"
      ],
      "text/plain": [
       "                       Expense  Amount        Category  \\\n",
       "0                       Travel    85.0          Travel   \n",
       "1                  Necessities   310.0  General items    \n",
       "2  Haircut and Beard Trimming    220.0          Others   \n",
       "3                      Laundry    50.0         Clothes   \n",
       "4                        Lunch   100.0            Food   \n",
       "\n",
       "                                             Comment           Date  \\\n",
       "0             GITAM - GWK (35+10) and Return (30+10)  April 1, 2022   \n",
       "1                             Monthly once or twice.  April 3, 2022   \n",
       "2                                             150+70  April 3, 2022   \n",
       "3                                       Weekly Twice  April 5, 2022   \n",
       "4  Had an Onion Rava Masala Dosa (60), 2 Sprites ...  April 8, 2022   \n",
       "\n",
       "  Mode of payment   \n",
       "0              NaN  \n",
       "1              NaN  \n",
       "2              NaN  \n",
       "3              NaN  \n",
       "4              NaN  "
      ]
     },
     "execution_count": 2,
     "metadata": {},
     "output_type": "execute_result"
    }
   ],
   "source": [
    "# reading the csv file\n",
    "df = pd.read_csv(\"C:/Users/LENOVO/Downloads/Expenses.csv\")\n",
    "df.head()"
   ]
  },
  {
   "cell_type": "code",
   "execution_count": 3,
   "id": "d6d09c14",
   "metadata": {},
   "outputs": [
    {
     "data": {
      "text/html": [
       "<div>\n",
       "<style scoped>\n",
       "    .dataframe tbody tr th:only-of-type {\n",
       "        vertical-align: middle;\n",
       "    }\n",
       "\n",
       "    .dataframe tbody tr th {\n",
       "        vertical-align: top;\n",
       "    }\n",
       "\n",
       "    .dataframe thead th {\n",
       "        text-align: right;\n",
       "    }\n",
       "</style>\n",
       "<table border=\"1\" class=\"dataframe\">\n",
       "  <thead>\n",
       "    <tr style=\"text-align: right;\">\n",
       "      <th></th>\n",
       "      <th>Expense</th>\n",
       "      <th>Amount</th>\n",
       "      <th>Category</th>\n",
       "      <th>Date</th>\n",
       "      <th>Mode of payment</th>\n",
       "    </tr>\n",
       "  </thead>\n",
       "  <tbody>\n",
       "    <tr>\n",
       "      <th>0</th>\n",
       "      <td>Travel</td>\n",
       "      <td>85.0</td>\n",
       "      <td>Travel</td>\n",
       "      <td>April 1, 2022</td>\n",
       "      <td>NaN</td>\n",
       "    </tr>\n",
       "    <tr>\n",
       "      <th>1</th>\n",
       "      <td>Necessities</td>\n",
       "      <td>310.0</td>\n",
       "      <td>General items</td>\n",
       "      <td>April 3, 2022</td>\n",
       "      <td>NaN</td>\n",
       "    </tr>\n",
       "    <tr>\n",
       "      <th>2</th>\n",
       "      <td>Haircut and Beard Trimming</td>\n",
       "      <td>220.0</td>\n",
       "      <td>Others</td>\n",
       "      <td>April 3, 2022</td>\n",
       "      <td>NaN</td>\n",
       "    </tr>\n",
       "    <tr>\n",
       "      <th>3</th>\n",
       "      <td>Laundry</td>\n",
       "      <td>50.0</td>\n",
       "      <td>Clothes</td>\n",
       "      <td>April 5, 2022</td>\n",
       "      <td>NaN</td>\n",
       "    </tr>\n",
       "    <tr>\n",
       "      <th>4</th>\n",
       "      <td>Lunch</td>\n",
       "      <td>100.0</td>\n",
       "      <td>Food</td>\n",
       "      <td>April 8, 2022</td>\n",
       "      <td>NaN</td>\n",
       "    </tr>\n",
       "  </tbody>\n",
       "</table>\n",
       "</div>"
      ],
      "text/plain": [
       "                       Expense  Amount        Category           Date  \\\n",
       "0                       Travel    85.0          Travel  April 1, 2022   \n",
       "1                  Necessities   310.0  General items   April 3, 2022   \n",
       "2  Haircut and Beard Trimming    220.0          Others  April 3, 2022   \n",
       "3                      Laundry    50.0         Clothes  April 5, 2022   \n",
       "4                        Lunch   100.0            Food  April 8, 2022   \n",
       "\n",
       "  Mode of payment   \n",
       "0              NaN  \n",
       "1              NaN  \n",
       "2              NaN  \n",
       "3              NaN  \n",
       "4              NaN  "
      ]
     },
     "execution_count": 3,
     "metadata": {},
     "output_type": "execute_result"
    }
   ],
   "source": [
    "# Dropping the comments column as it is not required\n",
    "df.drop('Comment', axis=1, inplace=True)\n",
    "df.head()"
   ]
  },
  {
   "cell_type": "code",
   "execution_count": 4,
   "id": "5b2122a7",
   "metadata": {},
   "outputs": [
    {
     "data": {
      "text/html": [
       "<div>\n",
       "<style scoped>\n",
       "    .dataframe tbody tr th:only-of-type {\n",
       "        vertical-align: middle;\n",
       "    }\n",
       "\n",
       "    .dataframe tbody tr th {\n",
       "        vertical-align: top;\n",
       "    }\n",
       "\n",
       "    .dataframe thead th {\n",
       "        text-align: right;\n",
       "    }\n",
       "</style>\n",
       "<table border=\"1\" class=\"dataframe\">\n",
       "  <thead>\n",
       "    <tr style=\"text-align: right;\">\n",
       "      <th></th>\n",
       "      <th>Expense</th>\n",
       "      <th>Amount</th>\n",
       "      <th>Category</th>\n",
       "      <th>Date</th>\n",
       "      <th>Mode of payment</th>\n",
       "    </tr>\n",
       "  </thead>\n",
       "  <tbody>\n",
       "    <tr>\n",
       "      <th>0</th>\n",
       "      <td>Travel</td>\n",
       "      <td>85.0</td>\n",
       "      <td>Travel</td>\n",
       "      <td>April 1, 2022</td>\n",
       "      <td>Cash</td>\n",
       "    </tr>\n",
       "    <tr>\n",
       "      <th>1</th>\n",
       "      <td>Necessities</td>\n",
       "      <td>310.0</td>\n",
       "      <td>General items</td>\n",
       "      <td>April 3, 2022</td>\n",
       "      <td>Cash</td>\n",
       "    </tr>\n",
       "    <tr>\n",
       "      <th>2</th>\n",
       "      <td>Haircut and Beard Trimming</td>\n",
       "      <td>220.0</td>\n",
       "      <td>Others</td>\n",
       "      <td>April 3, 2022</td>\n",
       "      <td>Cash</td>\n",
       "    </tr>\n",
       "    <tr>\n",
       "      <th>3</th>\n",
       "      <td>Laundry</td>\n",
       "      <td>50.0</td>\n",
       "      <td>Clothes</td>\n",
       "      <td>April 5, 2022</td>\n",
       "      <td>Cash</td>\n",
       "    </tr>\n",
       "    <tr>\n",
       "      <th>4</th>\n",
       "      <td>Lunch</td>\n",
       "      <td>100.0</td>\n",
       "      <td>Food</td>\n",
       "      <td>April 8, 2022</td>\n",
       "      <td>Cash</td>\n",
       "    </tr>\n",
       "  </tbody>\n",
       "</table>\n",
       "</div>"
      ],
      "text/plain": [
       "                       Expense  Amount        Category           Date  \\\n",
       "0                       Travel    85.0          Travel  April 1, 2022   \n",
       "1                  Necessities   310.0  General items   April 3, 2022   \n",
       "2  Haircut and Beard Trimming    220.0          Others  April 3, 2022   \n",
       "3                      Laundry    50.0         Clothes  April 5, 2022   \n",
       "4                        Lunch   100.0            Food  April 8, 2022   \n",
       "\n",
       "  Mode of payment   \n",
       "0             Cash  \n",
       "1             Cash  \n",
       "2             Cash  \n",
       "3             Cash  \n",
       "4             Cash  "
      ]
     },
     "execution_count": 4,
     "metadata": {},
     "output_type": "execute_result"
    }
   ],
   "source": [
    "df['Mode of payment '] = df['Mode of payment '].fillna(\"Cash\")\n",
    "df.head()"
   ]
  },
  {
   "cell_type": "code",
   "execution_count": 5,
   "id": "ab3a7554",
   "metadata": {},
   "outputs": [
    {
     "data": {
      "text/plain": [
       "array(['Travel', 'General items ', 'Others', 'Clothes', 'Food', 'Lended',\n",
       "       'Sports', 'Food, Others, Travel', 'Food, General items ', 'Bills',\n",
       "       'Education', nan, 'Entertainment', 'Education, General items ',\n",
       "       'Bills, General items ', 'Bills, Clothes, General items ',\n",
       "       'General items , Travel', 'Clothes, Lended', 'Food, Others'],\n",
       "      dtype=object)"
      ]
     },
     "execution_count": 5,
     "metadata": {},
     "output_type": "execute_result"
    }
   ],
   "source": [
    "# Now time to know different categories that I've been spending money on\n",
    "categories = df['Category'].unique()\n",
    "categories"
   ]
  },
  {
   "cell_type": "code",
   "execution_count": 6,
   "id": "5912162a",
   "metadata": {},
   "outputs": [
    {
     "data": {
      "text/plain": [
       "array(['Travel', 'General items ', 'Others', 'Clothes', 'Food', 'Lended',\n",
       "       'Sports', 'Food, General items ', 'Bills', 'Education',\n",
       "       'Entertainment', 'Bills, General items ', 'General items , Travel',\n",
       "       'Food, Others'], dtype='<U22')"
      ]
     },
     "execution_count": 6,
     "metadata": {},
     "output_type": "execute_result"
    }
   ],
   "source": [
    "categories = list(categories)\n",
    "for category in categories:\n",
    "    if isinstance(category, str):\n",
    "        if category.__contains__(','):\n",
    "            categories.remove(category)\n",
    "    else:\n",
    "        categories.remove(category)\n",
    "categories = np.array(categories)\n",
    "categories"
   ]
  },
  {
   "cell_type": "markdown",
   "id": "c0f16f43",
   "metadata": {},
   "source": [
    "## Data now ready for analysis"
   ]
  },
  {
   "cell_type": "markdown",
   "id": "4cc265c7",
   "metadata": {},
   "source": [
    "### Mode of Payment visualisation"
   ]
  },
  {
   "cell_type": "code",
   "execution_count": 7,
   "id": "3d2f6560",
   "metadata": {},
   "outputs": [
    {
     "data": {
      "image/png": "[encoded data removed]",
      "text/plain": [
       "<Figure size 504x504 with 1 Axes>"
      ]
     },
     "metadata": {},
     "output_type": "display_data"
    }
   ],
   "source": [
    "modes = df['Mode of payment '].value_counts()\n",
    "modes.plot(kind='pie', figsize=(7, 7), colors=['blue', 'orange', 'black']);"
   ]
  },
  {
   "cell_type": "code",
   "execution_count": 8,
   "id": "7b914db1",
   "metadata": {},
   "outputs": [
    {
     "data": {
      "text/html": [
       "<div>\n",
       "<style scoped>\n",
       "    .dataframe tbody tr th:only-of-type {\n",
       "        vertical-align: middle;\n",
       "    }\n",
       "\n",
       "    .dataframe tbody tr th {\n",
       "        vertical-align: top;\n",
       "    }\n",
       "\n",
       "    .dataframe thead th {\n",
       "        text-align: right;\n",
       "    }\n",
       "</style>\n",
       "<table border=\"1\" class=\"dataframe\">\n",
       "  <thead>\n",
       "    <tr style=\"text-align: right;\">\n",
       "      <th></th>\n",
       "      <th>Expense</th>\n",
       "      <th>Amount</th>\n",
       "      <th>Category</th>\n",
       "      <th>Mode of payment</th>\n",
       "      <th>Month</th>\n",
       "      <th>Day</th>\n",
       "    </tr>\n",
       "  </thead>\n",
       "  <tbody>\n",
       "    <tr>\n",
       "      <th>138</th>\n",
       "      <td>Lunch</td>\n",
       "      <td>180.0</td>\n",
       "      <td>Food</td>\n",
       "      <td>Online</td>\n",
       "      <td>12</td>\n",
       "      <td>2</td>\n",
       "    </tr>\n",
       "    <tr>\n",
       "      <th>139</th>\n",
       "      <td>Dhobi</td>\n",
       "      <td>100.0</td>\n",
       "      <td>Clothes</td>\n",
       "      <td>Online</td>\n",
       "      <td>12</td>\n",
       "      <td>3</td>\n",
       "    </tr>\n",
       "    <tr>\n",
       "      <th>140</th>\n",
       "      <td>Water</td>\n",
       "      <td>30.0</td>\n",
       "      <td>Food</td>\n",
       "      <td>Online</td>\n",
       "      <td>12</td>\n",
       "      <td>3</td>\n",
       "    </tr>\n",
       "    <tr>\n",
       "      <th>141</th>\n",
       "      <td>Auto</td>\n",
       "      <td>40.0</td>\n",
       "      <td>Travel</td>\n",
       "      <td>Online</td>\n",
       "      <td>12</td>\n",
       "      <td>3</td>\n",
       "    </tr>\n",
       "    <tr>\n",
       "      <th>142</th>\n",
       "      <td>Snacks 🐍</td>\n",
       "      <td>30.0</td>\n",
       "      <td>Food</td>\n",
       "      <td>Online</td>\n",
       "      <td>12</td>\n",
       "      <td>5</td>\n",
       "    </tr>\n",
       "  </tbody>\n",
       "</table>\n",
       "</div>"
      ],
      "text/plain": [
       "      Expense  Amount Category Mode of payment   Month  Day\n",
       "138     Lunch   180.0     Food           Online     12    2\n",
       "139     Dhobi   100.0  Clothes           Online     12    3\n",
       "140     Water    30.0     Food           Online     12    3\n",
       "141      Auto    40.0   Travel           Online     12    3\n",
       "142  Snacks 🐍    30.0     Food           Online     12    5"
      ]
     },
     "execution_count": 8,
     "metadata": {},
     "output_type": "execute_result"
    }
   ],
   "source": [
    "# Since data type of date is a string, making a new column for month\n",
    "months = {'April': 4, 'May': 5, 'June': 6, 'July': 7, 'August': 8, 'September': 9, 'October': 10, 'November': 11, 'December': 12}\n",
    "\n",
    "#creating a function to extract the month number\n",
    "def getMonth(row):\n",
    "    for month in months.keys():\n",
    "        if row['Date'].__contains__(month):\n",
    "            return months.get(month)\n",
    "\n",
    "def getDay(row):\n",
    "    day = row['Date'].split(',')\n",
    "    day = day[0][-2:]\n",
    "    return int(day)\n",
    "\n",
    "#applying the above function and creating a new column\n",
    "df['Month'] = df.apply(getMonth, axis=1)\n",
    "df['Day'] = df.apply(getDay, axis=1)\n",
    "df.drop('Date', axis=1, inplace=True)\n",
    "df.tail()"
   ]
  },
  {
   "cell_type": "code",
   "execution_count": 9,
   "id": "d9bbdb86",
   "metadata": {},
   "outputs": [],
   "source": [
    "def MonthCharts(month: int) -> None:\n",
    "    '''Takes in one argument\n",
    "    month (int): Enter the month number to get details about the expenditure. For example: 5 = month of May'''\n",
    "    plt.figure(figsize=(10, 10))\n",
    "\n",
    "    monthly_df = df[df[\"Month\"]==month]\n",
    "\n",
    "    plt.subplot(221)\n",
    "    plt.title(\"Daywise trend of expenditure\")\n",
    "    grouped_df = monthly_df.groupby(\"Day\")\n",
    "    daywise_expenditure = grouped_df[\"Amount\"].sum()\n",
    "    sns.lineplot(data = daywise_expenditure, color = \"black\");\n",
    "\n",
    "    plt.subplot(222)\n",
    "    plt.title(\"Category wise share of expediture (in terms of count)\")\n",
    "    monthly_df['Category'].value_counts().plot(kind=\"pie\");\n",
    "    \n",
    "    plt.subplot(224)\n",
    "    plt.title(\"Category wise share of expediture (in terms of amount)\")\n",
    "    grouped_df = monthly_df.groupby(\"Category\")\n",
    "    categoryWise_expenditure = grouped_df[\"Amount\"].sum()\n",
    "    categoryWise_expenditure.plot(kind=\"pie\");\n",
    "    \n",
    "    plt.subplot(223)\n",
    "    plt.title(\"Modes of payment (count)\")\n",
    "    monthly_df[\"Mode of payment \"].value_counts().plot(kind=\"bar\", color=\"Orange\");\n",
    "    \n",
    "    plt.subplots_adjust(wspace=0.5, hspace=0.5)"
   ]
  },
  {
   "cell_type": "code",
   "execution_count": 10,
   "id": "72af052e",
   "metadata": {},
   "outputs": [
    {
     "data": {
      "image/png": "[encoded data removed]",
      "text/plain": [
       "<Figure size 720x720 with 4 Axes>"
      ]
     },
     "metadata": {
      "needs_background": "light"
     },
     "output_type": "display_data"
    }
   ],
   "source": [
    "MonthCharts(11)"
   ]
  }
 ],
 "metadata": {
  "kernelspec": {
   "display_name": "Python 3 (ipykernel)",
   "language": "python",
   "name": "python3"
  },
  "language_info": {
   "codemirror_mode": {
    "name": "ipython",
    "version": 3
   },
   "file_extension": ".py",
   "mimetype": "text/x-python",
   "name": "python",
   "nbconvert_exporter": "python",
   "pygments_lexer": "ipython3",
   "version": "3.9.12"
  },
  "vscode": {
   "interpreter": {
    "hash": "ad2bdc8ecc057115af97d19610ffacc2b4e99fae6737bb82f5d7fb13d2f2c186"
   }
  }
 },
 "nbformat": 4,
 "nbformat_minor": 5
}
